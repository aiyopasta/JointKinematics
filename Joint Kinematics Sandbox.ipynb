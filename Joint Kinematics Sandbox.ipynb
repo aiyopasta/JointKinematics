{
 "cells": [
  {
   "cell_type": "markdown",
   "id": "ee9bc444",
   "metadata": {},
   "source": [
    "## Joint Kinematics Sandbox"
   ]
  },
  {
   "cell_type": "code",
   "execution_count": 6,
   "id": "2488f4ac",
   "metadata": {},
   "outputs": [
    {
     "data": {
      "text/plain": [
       "array([[1., 0., 0.],\n",
       "       [0., 1., 0.],\n",
       "       [0., 0., 1.]])"
      ]
     },
     "execution_count": 6,
     "metadata": {},
     "output_type": "execute_result"
    }
   ],
   "source": [
    "import numpy as np\n",
    "\n",
    "np.eye(3)"
   ]
  },
  {
   "cell_type": "code",
   "execution_count": 8,
   "id": "7e119ef3",
   "metadata": {},
   "outputs": [
    {
     "data": {
      "text/plain": [
       "array([[3],\n",
       "       [3],\n",
       "       [4]])"
      ]
     },
     "execution_count": 8,
     "metadata": {},
     "output_type": "execute_result"
    }
   ],
   "source": [
    "d = np.array([3, 3, 4])\n",
    "d = np.array([d])\n",
    "d.T"
   ]
  },
  {
   "cell_type": "code",
   "execution_count": 11,
   "id": "c6cfaf6f",
   "metadata": {},
   "outputs": [
    {
     "data": {
      "text/plain": [
       "array([1, 2, 3, 3])"
      ]
     },
     "execution_count": 11,
     "metadata": {},
     "output_type": "execute_result"
    }
   ],
   "source": [
    "arr = np.array([1, 2, 3])\n",
    "np.append(arr, 3)"
   ]
  },
  {
   "cell_type": "code",
   "execution_count": 13,
   "id": "0802f053",
   "metadata": {},
   "outputs": [
    {
     "data": {
      "text/plain": [
       "array([[1., 0., 0.],\n",
       "       [0., 1., 0.],\n",
       "       [0., 0., 1.]])"
      ]
     },
     "execution_count": 13,
     "metadata": {},
     "output_type": "execute_result"
    }
   ],
   "source": [
    "a = np.eye(3)\n",
    "b = a\n",
    "b = np.eye(4)\n",
    "a"
   ]
  },
  {
   "cell_type": "code",
   "execution_count": 19,
   "id": "2b6955b1",
   "metadata": {},
   "outputs": [
    {
     "data": {
      "text/plain": [
       "[1, 2, 3]"
      ]
     },
     "execution_count": 19,
     "metadata": {},
     "output_type": "execute_result"
    }
   ],
   "source": [
    "np.array([1, 2, 3]).tolist()"
   ]
  },
  {
   "cell_type": "code",
   "execution_count": 5,
   "id": "cdf4abe2",
   "metadata": {},
   "outputs": [
    {
     "data": {
      "text/plain": [
       "array([[1, 1],\n",
       "       [2, 2],\n",
       "       [3, 3]])"
      ]
     },
     "execution_count": 5,
     "metadata": {},
     "output_type": "execute_result"
    }
   ],
   "source": [
    "c1 = np.array([[1, 2, 3]]).T\n",
    "c2 = np.array([[1, 2, 3]]).T\n",
    "np.hstack([c1, c2])"
   ]
  },
  {
   "cell_type": "code",
   "execution_count": 18,
   "id": "f95fb96b",
   "metadata": {},
   "outputs": [
    {
     "data": {
      "text/plain": [
       "[1, 2, 3, 4]"
      ]
     },
     "execution_count": 18,
     "metadata": {},
     "output_type": "execute_result"
    }
   ],
   "source": [
    "a = [1, 2, 3, 4]\n",
    "wrt = -1\n",
    "if wrt == -1:\n",
    "    wrt = len(a)-1\n",
    "a[:wrt+1]"
   ]
  },
  {
   "cell_type": "code",
   "execution_count": 21,
   "id": "b9017fc5",
   "metadata": {},
   "outputs": [
    {
     "data": {
      "text/plain": [
       "array([[0.],\n",
       "       [0.],\n",
       "       [0.],\n",
       "       [0.],\n",
       "       [0.]])"
      ]
     },
     "execution_count": 21,
     "metadata": {},
     "output_type": "execute_result"
    }
   ],
   "source": [
    "np.zeros((5, 1))"
   ]
  },
  {
   "cell_type": "code",
   "execution_count": 24,
   "id": "0d324fd7",
   "metadata": {},
   "outputs": [
    {
     "data": {
      "text/plain": [
       "array([[2],\n",
       "       [3],\n",
       "       [4],\n",
       "       [5]])"
      ]
     },
     "execution_count": 24,
     "metadata": {},
     "output_type": "execute_result"
    }
   ],
   "source": [
    "v = [2, 3, 4, 5]\n",
    "v = np.array([v]).T\n",
    "v"
   ]
  },
  {
   "cell_type": "code",
   "execution_count": 6,
   "id": "82da7134",
   "metadata": {},
   "outputs": [
    {
     "data": {
      "text/plain": [
       "False"
      ]
     },
     "execution_count": 6,
     "metadata": {},
     "output_type": "execute_result"
    }
   ],
   "source": [
    "d = {1: 'hi'}\n",
    "0 in d"
   ]
  },
  {
   "cell_type": "code",
   "execution_count": 7,
   "id": "b6e050d4",
   "metadata": {},
   "outputs": [
    {
     "data": {
      "text/plain": [
       "[0.5, 1, 2, 3]"
      ]
     },
     "execution_count": 7,
     "metadata": {},
     "output_type": "execute_result"
    }
   ],
   "source": [
    "l = [1, 2, 3]\n",
    "l.insert(0, 0.5)\n",
    "l"
   ]
  },
  {
   "cell_type": "code",
   "execution_count": 10,
   "id": "33b38317",
   "metadata": {},
   "outputs": [
    {
     "data": {
      "text/plain": [
       "[[3, 2], [3, 3], [3, 5]]"
      ]
     },
     "execution_count": 10,
     "metadata": {},
     "output_type": "execute_result"
    }
   ],
   "source": [
    "l = [[1, 2], [2, 3], [4, 5]]\n",
    "for n in l:\n",
    "    n[0] = 3\n",
    "\n",
    "l"
   ]
  },
  {
   "cell_type": "code",
   "execution_count": 11,
   "id": "649c49a0",
   "metadata": {},
   "outputs": [
    {
     "data": {
      "text/plain": [
       "'K'"
      ]
     },
     "execution_count": 11,
     "metadata": {},
     "output_type": "execute_result"
    }
   ],
   "source": [
    "'k'.upper()"
   ]
  },
  {
   "cell_type": "code",
   "execution_count": 12,
   "id": "481a5d5c",
   "metadata": {},
   "outputs": [
    {
     "data": {
      "text/plain": [
       "[1]"
      ]
     },
     "execution_count": 12,
     "metadata": {},
     "output_type": "execute_result"
    }
   ],
   "source": [
    "l = [1, 2, 3]\n",
    "l[:1]"
   ]
  },
  {
   "cell_type": "code",
   "execution_count": 23,
   "id": "7f694cb0",
   "metadata": {},
   "outputs": [
    {
     "data": {
      "text/plain": [
       "1"
      ]
     },
     "execution_count": 23,
     "metadata": {},
     "output_type": "execute_result"
    }
   ],
   "source": [
    "import numpy as np\n",
    "int(np.round(0.51, 0))"
   ]
  },
  {
   "cell_type": "code",
   "execution_count": 24,
   "id": "d5110bc1",
   "metadata": {},
   "outputs": [
    {
     "ename": "TypeError",
     "evalue": "int() argument must be a string, a bytes-like object or a real number, not 'tuple'",
     "output_type": "error",
     "traceback": [
      "\u001b[0;31m---------------------------------------------------------------------------\u001b[0m",
      "\u001b[0;31mTypeError\u001b[0m                                 Traceback (most recent call last)",
      "Input \u001b[0;32mIn [24]\u001b[0m, in \u001b[0;36m<cell line: 1>\u001b[0;34m()\u001b[0m\n\u001b[0;32m----> 1\u001b[0m \u001b[38;5;28;43mint\u001b[39;49m\u001b[43m(\u001b[49m\u001b[43m(\u001b[49m\u001b[38;5;241;43m2.5\u001b[39;49m\u001b[43m,\u001b[49m\u001b[43m \u001b[49m\u001b[38;5;241;43m2.4\u001b[39;49m\u001b[43m,\u001b[49m\u001b[43m \u001b[49m\u001b[38;5;241;43m2.4\u001b[39;49m\u001b[43m)\u001b[49m\u001b[43m)\u001b[49m\n",
      "\u001b[0;31mTypeError\u001b[0m: int() argument must be a string, a bytes-like object or a real number, not 'tuple'"
     ]
    }
   ],
   "source": [
    "int((2.5, 2.4, 2.4))"
   ]
  },
  {
   "cell_type": "raw",
   "id": "5902e233",
   "metadata": {},
   "source": [
    "Each motion cycle has:\n",
    "1. Name\n",
    "2. Duration\n",
    "3. Tension\n",
    "4. Keyframes — Per frame: 12 numbers for joint angles + 2 for root position + 1 for t location\n",
    "\n",
    "So we'll save all the motions as follows:\n",
    "1. 3                                  // Number of motion cycles saved\n",
    "2. Motion — Idle                      // name\n",
    "3. 2.0                                // duration\n",
    "4. 0.5                                // tension\n",
    "5. 8                                  // Number of keyframes in motion\n",
    "5. 0.0, 0.8833, 0.3488, ...., 0.003   // Keyframe 1: t=0.0, keyframe data: [joint1, joint2, ..., joint14] \n",
    "6. 1.0, 0.8833, 0.3488, ...., 0.003   // Keyframe 2: t=1.0, keyframe data: [joint1, joint2, ..., joint14] \n",
    "..."
   ]
  },
  {
   "cell_type": "code",
   "execution_count": 1,
   "id": "daed4730",
   "metadata": {},
   "outputs": [],
   "source": [
    "import numpy as np\n",
    "def clamp(l: np.ndarray):\n",
    "    for i in range(1, )"
   ]
  },
  {
   "cell_type": "code",
   "execution_count": 11,
   "id": "89326328",
   "metadata": {},
   "outputs": [
    {
     "data": {
      "text/plain": [
       "34838.16813320841"
      ]
     },
     "execution_count": 11,
     "metadata": {},
     "output_type": "execute_result"
    }
   ],
   "source": [
    "a1 = np.pi/3\n",
    "a2 = 34837  # radians\n",
    "a2_prime = a1 + ((a2 - a1) % np.pi)\n",
    "a2_prime"
   ]
  },
  {
   "cell_type": "code",
   "execution_count": 12,
   "id": "1068ceeb",
   "metadata": {},
   "outputs": [
    {
     "data": {
      "text/plain": [
       "-66.92910275106883"
      ]
     },
     "execution_count": 12,
     "metadata": {},
     "output_type": "execute_result"
    }
   ],
   "source": [
    "np.rad2deg(34837 - a2_prime)"
   ]
  },
  {
   "cell_type": "code",
   "execution_count": null,
   "id": "d4a0420f",
   "metadata": {},
   "outputs": [],
   "source": []
  },
  {
   "cell_type": "code",
   "execution_count": null,
   "id": "39b17368",
   "metadata": {},
   "outputs": [],
   "source": []
  }
 ],
 "metadata": {
  "kernelspec": {
   "display_name": "Python 3 (ipykernel)",
   "language": "python",
   "name": "python3"
  },
  "language_info": {
   "codemirror_mode": {
    "name": "ipython",
    "version": 3
   },
   "file_extension": ".py",
   "mimetype": "text/x-python",
   "name": "python",
   "nbconvert_exporter": "python",
   "pygments_lexer": "ipython3",
   "version": "3.10.0"
  }
 },
 "nbformat": 4,
 "nbformat_minor": 5
}
